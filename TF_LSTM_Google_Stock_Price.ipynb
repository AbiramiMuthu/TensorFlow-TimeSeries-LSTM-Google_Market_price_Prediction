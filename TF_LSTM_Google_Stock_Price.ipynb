{
  "nbformat": 4,
  "nbformat_minor": 0,
  "metadata": {
    "colab": {
      "name": "TF_LSTM_Google_Stock_Price.ipynb",
      "provenance": [],
      "collapsed_sections": [],
      "authorship_tag": "ABX9TyNjgrxRrFZNP12guYDKk/Fu",
      "include_colab_link": true
    },
    "kernelspec": {
      "name": "python3",
      "display_name": "Python 3"
    },
    "language_info": {
      "name": "python"
    }
  },
  "cells": [
    {
      "cell_type": "markdown",
      "metadata": {
        "id": "view-in-github",
        "colab_type": "text"
      },
      "source": [
        "<a href=\"https://colab.research.google.com/github/AbiramiMuthu/TensorFlow-TimeSeries-LSTM-Google_Market_price_Prediction/blob/main/TF_LSTM_Google_Stock_Price.ipynb\" target=\"_parent\"><img src=\"https://colab.research.google.com/assets/colab-badge.svg\" alt=\"Open In Colab\"/></a>"
      ]
    },
    {
      "cell_type": "code",
      "metadata": {
        "colab": {
          "base_uri": "https://localhost:8080/"
        },
        "id": "vhNMAJGudLzZ",
        "outputId": "324c64ea-c935-4e4a-dd6e-3eab11069ef0"
      },
      "source": [
        "from google.colab import drive\n",
        "drive.mount('/content/gdrive')"
      ],
      "execution_count": null,
      "outputs": [
        {
          "output_type": "stream",
          "text": [
            "Drive already mounted at /content/gdrive; to attempt to forcibly remount, call drive.mount(\"/content/gdrive\", force_remount=True).\n"
          ],
          "name": "stdout"
        }
      ]
    },
    {
      "cell_type": "markdown",
      "metadata": {
        "id": "3s4axXaBvGYb"
      },
      "source": [
        "## Import Libraries"
      ]
    },
    {
      "cell_type": "code",
      "metadata": {
        "id": "Jfd6OhBbuTTE"
      },
      "source": [
        "import numpy as np\n",
        "import pandas as pd\n",
        "import matplotlib.pyplot as plt\n",
        "from sklearn.preprocessing import MinMaxScaler"
      ],
      "execution_count": null,
      "outputs": []
    },
    {
      "cell_type": "markdown",
      "metadata": {
        "id": "FisT8ZdZ1AKm"
      },
      "source": [
        "## Load Data"
      ]
    },
    {
      "cell_type": "code",
      "metadata": {
        "colab": {
          "base_uri": "https://localhost:8080/",
          "height": 204
        },
        "id": "2AZqPYvlvwsk",
        "outputId": "ea620be6-9f04-4ba2-b200-083ac5c03bbf"
      },
      "source": [
        "data=pd.read_csv(\"/content/gdrive/MyDrive/Colab Notebooks/Google_Stock_Price_Prediction/GOOG.csv\",date_parser=True)\n",
        "data.head(5)\n"
      ],
      "execution_count": null,
      "outputs": [
        {
          "output_type": "execute_result",
          "data": {
            "text/html": [
              "<div>\n",
              "<style scoped>\n",
              "    .dataframe tbody tr th:only-of-type {\n",
              "        vertical-align: middle;\n",
              "    }\n",
              "\n",
              "    .dataframe tbody tr th {\n",
              "        vertical-align: top;\n",
              "    }\n",
              "\n",
              "    .dataframe thead th {\n",
              "        text-align: right;\n",
              "    }\n",
              "</style>\n",
              "<table border=\"1\" class=\"dataframe\">\n",
              "  <thead>\n",
              "    <tr style=\"text-align: right;\">\n",
              "      <th></th>\n",
              "      <th>Date</th>\n",
              "      <th>Open</th>\n",
              "      <th>High</th>\n",
              "      <th>Low</th>\n",
              "      <th>Close</th>\n",
              "      <th>Adj Close</th>\n",
              "      <th>Volume</th>\n",
              "    </tr>\n",
              "  </thead>\n",
              "  <tbody>\n",
              "    <tr>\n",
              "      <th>0</th>\n",
              "      <td>2004-08-19</td>\n",
              "      <td>49.813290</td>\n",
              "      <td>51.835709</td>\n",
              "      <td>47.800831</td>\n",
              "      <td>49.982655</td>\n",
              "      <td>49.982655</td>\n",
              "      <td>44871361</td>\n",
              "    </tr>\n",
              "    <tr>\n",
              "      <th>1</th>\n",
              "      <td>2004-08-20</td>\n",
              "      <td>50.316402</td>\n",
              "      <td>54.336334</td>\n",
              "      <td>50.062355</td>\n",
              "      <td>53.952770</td>\n",
              "      <td>53.952770</td>\n",
              "      <td>22942874</td>\n",
              "    </tr>\n",
              "    <tr>\n",
              "      <th>2</th>\n",
              "      <td>2004-08-23</td>\n",
              "      <td>55.168217</td>\n",
              "      <td>56.528118</td>\n",
              "      <td>54.321388</td>\n",
              "      <td>54.495735</td>\n",
              "      <td>54.495735</td>\n",
              "      <td>18342897</td>\n",
              "    </tr>\n",
              "    <tr>\n",
              "      <th>3</th>\n",
              "      <td>2004-08-24</td>\n",
              "      <td>55.412300</td>\n",
              "      <td>55.591629</td>\n",
              "      <td>51.591621</td>\n",
              "      <td>52.239197</td>\n",
              "      <td>52.239197</td>\n",
              "      <td>15319808</td>\n",
              "    </tr>\n",
              "    <tr>\n",
              "      <th>4</th>\n",
              "      <td>2004-08-25</td>\n",
              "      <td>52.284027</td>\n",
              "      <td>53.798351</td>\n",
              "      <td>51.746044</td>\n",
              "      <td>52.802086</td>\n",
              "      <td>52.802086</td>\n",
              "      <td>9232276</td>\n",
              "    </tr>\n",
              "  </tbody>\n",
              "</table>\n",
              "</div>"
            ],
            "text/plain": [
              "         Date       Open       High        Low      Close  Adj Close    Volume\n",
              "0  2004-08-19  49.813290  51.835709  47.800831  49.982655  49.982655  44871361\n",
              "1  2004-08-20  50.316402  54.336334  50.062355  53.952770  53.952770  22942874\n",
              "2  2004-08-23  55.168217  56.528118  54.321388  54.495735  54.495735  18342897\n",
              "3  2004-08-24  55.412300  55.591629  51.591621  52.239197  52.239197  15319808\n",
              "4  2004-08-25  52.284027  53.798351  51.746044  52.802086  52.802086   9232276"
            ]
          },
          "metadata": {
            "tags": []
          },
          "execution_count": 136
        }
      ]
    },
    {
      "cell_type": "code",
      "metadata": {
        "colab": {
          "base_uri": "https://localhost:8080/",
          "height": 204
        },
        "id": "idS96mp0wJNX",
        "outputId": "12ae917b-0fa5-4f54-f47f-50ab859623eb"
      },
      "source": [
        "data.tail(5)"
      ],
      "execution_count": null,
      "outputs": [
        {
          "output_type": "execute_result",
          "data": {
            "text/html": [
              "<div>\n",
              "<style scoped>\n",
              "    .dataframe tbody tr th:only-of-type {\n",
              "        vertical-align: middle;\n",
              "    }\n",
              "\n",
              "    .dataframe tbody tr th {\n",
              "        vertical-align: top;\n",
              "    }\n",
              "\n",
              "    .dataframe thead th {\n",
              "        text-align: right;\n",
              "    }\n",
              "</style>\n",
              "<table border=\"1\" class=\"dataframe\">\n",
              "  <thead>\n",
              "    <tr style=\"text-align: right;\">\n",
              "      <th></th>\n",
              "      <th>Date</th>\n",
              "      <th>Open</th>\n",
              "      <th>High</th>\n",
              "      <th>Low</th>\n",
              "      <th>Close</th>\n",
              "      <th>Adj Close</th>\n",
              "      <th>Volume</th>\n",
              "    </tr>\n",
              "  </thead>\n",
              "  <tbody>\n",
              "    <tr>\n",
              "      <th>4263</th>\n",
              "      <td>2021-07-27</td>\n",
              "      <td>2800.219971</td>\n",
              "      <td>2800.219971</td>\n",
              "      <td>2702.000000</td>\n",
              "      <td>2735.929932</td>\n",
              "      <td>2735.929932</td>\n",
              "      <td>2108200</td>\n",
              "    </tr>\n",
              "    <tr>\n",
              "      <th>4264</th>\n",
              "      <td>2021-07-28</td>\n",
              "      <td>2771.239990</td>\n",
              "      <td>2793.520020</td>\n",
              "      <td>2727.000000</td>\n",
              "      <td>2727.629883</td>\n",
              "      <td>2727.629883</td>\n",
              "      <td>2734400</td>\n",
              "    </tr>\n",
              "    <tr>\n",
              "      <th>4265</th>\n",
              "      <td>2021-07-29</td>\n",
              "      <td>2727.612061</td>\n",
              "      <td>2743.030029</td>\n",
              "      <td>2722.760010</td>\n",
              "      <td>2730.810059</td>\n",
              "      <td>2730.810059</td>\n",
              "      <td>964200</td>\n",
              "    </tr>\n",
              "    <tr>\n",
              "      <th>4266</th>\n",
              "      <td>2021-07-30</td>\n",
              "      <td>2710.219971</td>\n",
              "      <td>2715.427002</td>\n",
              "      <td>2696.283936</td>\n",
              "      <td>2704.419922</td>\n",
              "      <td>2704.419922</td>\n",
              "      <td>1196600</td>\n",
              "    </tr>\n",
              "    <tr>\n",
              "      <th>4267</th>\n",
              "      <td>2021-08-02</td>\n",
              "      <td>2709.689941</td>\n",
              "      <td>2720.409912</td>\n",
              "      <td>2693.389893</td>\n",
              "      <td>2719.790039</td>\n",
              "      <td>2719.790039</td>\n",
              "      <td>1006000</td>\n",
              "    </tr>\n",
              "  </tbody>\n",
              "</table>\n",
              "</div>"
            ],
            "text/plain": [
              "            Date         Open         High  ...        Close    Adj Close   Volume\n",
              "4263  2021-07-27  2800.219971  2800.219971  ...  2735.929932  2735.929932  2108200\n",
              "4264  2021-07-28  2771.239990  2793.520020  ...  2727.629883  2727.629883  2734400\n",
              "4265  2021-07-29  2727.612061  2743.030029  ...  2730.810059  2730.810059   964200\n",
              "4266  2021-07-30  2710.219971  2715.427002  ...  2704.419922  2704.419922  1196600\n",
              "4267  2021-08-02  2709.689941  2720.409912  ...  2719.790039  2719.790039  1006000\n",
              "\n",
              "[5 rows x 7 columns]"
            ]
          },
          "metadata": {
            "tags": []
          },
          "execution_count": 137
        }
      ]
    },
    {
      "cell_type": "code",
      "metadata": {
        "colab": {
          "base_uri": "https://localhost:8080/"
        },
        "id": "S97G_VBdwTnK",
        "outputId": "1a0d3ad2-23cb-4f83-e7af-107d6791fd3d"
      },
      "source": [
        "data_train_old=data[data[\"Date\"]<\"2019-01-01\"].copy()\n",
        "len(data_train)"
      ],
      "execution_count": null,
      "outputs": [
        {
          "output_type": "execute_result",
          "data": {
            "text/plain": [
              "3617"
            ]
          },
          "metadata": {
            "tags": []
          },
          "execution_count": 138
        }
      ]
    },
    {
      "cell_type": "code",
      "metadata": {
        "colab": {
          "base_uri": "https://localhost:8080/"
        },
        "id": "9DnIrSvZwmuR",
        "outputId": "b005e716-da85-4f3f-f3a7-606ee08e0fcb"
      },
      "source": [
        "data_test=data[data[\"Date\"]>=\"2019-01-01\"].copy()\n",
        "len(data_test)"
      ],
      "execution_count": null,
      "outputs": [
        {
          "output_type": "execute_result",
          "data": {
            "text/plain": [
              "651"
            ]
          },
          "metadata": {
            "tags": []
          },
          "execution_count": 139
        }
      ]
    },
    {
      "cell_type": "code",
      "metadata": {
        "colab": {
          "base_uri": "https://localhost:8080/",
          "height": 142
        },
        "id": "wgRGyWGhxB6B",
        "outputId": "56b95346-6e72-4ac9-da2a-95422ede39e3"
      },
      "source": [
        "# Drop the Date and Adj Close columns\n",
        "data_train=data_train_old.drop([\"Date\",\"Adj Close\"],axis=1)\n",
        "data_train.head(3)"
      ],
      "execution_count": null,
      "outputs": [
        {
          "output_type": "execute_result",
          "data": {
            "text/html": [
              "<div>\n",
              "<style scoped>\n",
              "    .dataframe tbody tr th:only-of-type {\n",
              "        vertical-align: middle;\n",
              "    }\n",
              "\n",
              "    .dataframe tbody tr th {\n",
              "        vertical-align: top;\n",
              "    }\n",
              "\n",
              "    .dataframe thead th {\n",
              "        text-align: right;\n",
              "    }\n",
              "</style>\n",
              "<table border=\"1\" class=\"dataframe\">\n",
              "  <thead>\n",
              "    <tr style=\"text-align: right;\">\n",
              "      <th></th>\n",
              "      <th>Open</th>\n",
              "      <th>High</th>\n",
              "      <th>Low</th>\n",
              "      <th>Close</th>\n",
              "      <th>Volume</th>\n",
              "    </tr>\n",
              "  </thead>\n",
              "  <tbody>\n",
              "    <tr>\n",
              "      <th>0</th>\n",
              "      <td>49.813290</td>\n",
              "      <td>51.835709</td>\n",
              "      <td>47.800831</td>\n",
              "      <td>49.982655</td>\n",
              "      <td>44871361</td>\n",
              "    </tr>\n",
              "    <tr>\n",
              "      <th>1</th>\n",
              "      <td>50.316402</td>\n",
              "      <td>54.336334</td>\n",
              "      <td>50.062355</td>\n",
              "      <td>53.952770</td>\n",
              "      <td>22942874</td>\n",
              "    </tr>\n",
              "    <tr>\n",
              "      <th>2</th>\n",
              "      <td>55.168217</td>\n",
              "      <td>56.528118</td>\n",
              "      <td>54.321388</td>\n",
              "      <td>54.495735</td>\n",
              "      <td>18342897</td>\n",
              "    </tr>\n",
              "  </tbody>\n",
              "</table>\n",
              "</div>"
            ],
            "text/plain": [
              "        Open       High        Low      Close    Volume\n",
              "0  49.813290  51.835709  47.800831  49.982655  44871361\n",
              "1  50.316402  54.336334  50.062355  53.952770  22942874\n",
              "2  55.168217  56.528118  54.321388  54.495735  18342897"
            ]
          },
          "metadata": {
            "tags": []
          },
          "execution_count": 140
        }
      ]
    },
    {
      "cell_type": "markdown",
      "metadata": {
        "id": "9jSX0HXqzKKL"
      },
      "source": [
        "## Data Standardisation"
      ]
    },
    {
      "cell_type": "code",
      "metadata": {
        "colab": {
          "base_uri": "https://localhost:8080/"
        },
        "id": "eZPF07wZxidm",
        "outputId": "4974abe6-4cdd-4711-b2d2-a7486ec28558"
      },
      "source": [
        "scaler=MinMaxScaler()\n",
        "data_train=scaler.fit_transform(data_train)\n",
        "data_train"
      ],
      "execution_count": null,
      "outputs": [
        {
          "output_type": "execute_result",
          "data": {
            "text/plain": [
              "array([[3.30298164e-04, 9.44785459e-04, 0.00000000e+00, 1.34908021e-04,\n",
              "        5.43577158e-01],\n",
              "       [7.42148227e-04, 2.98909923e-03, 1.88269054e-03, 3.39307537e-03,\n",
              "        2.77885876e-01],\n",
              "       [4.71386886e-03, 4.78092896e-03, 5.42828241e-03, 3.83867225e-03,\n",
              "        2.22151352e-01],\n",
              "       ...,\n",
              "       [7.92197108e-01, 8.11970141e-01, 7.90196475e-01, 8.15799920e-01,\n",
              "        2.54669035e-02],\n",
              "       [8.18777193e-01, 8.21510648e-01, 8.20249255e-01, 8.10219301e-01,\n",
              "        1.70461017e-02],\n",
              "       [8.19874096e-01, 8.19172449e-01, 8.12332341e-01, 8.09012935e-01,\n",
              "        1.79972283e-02]])"
            ]
          },
          "metadata": {
            "tags": []
          },
          "execution_count": 141
        }
      ]
    },
    {
      "cell_type": "markdown",
      "metadata": {
        "id": "TeyC-1n2z6D9"
      },
      "source": [
        "## we need to crate X_train as batches of 60 days\n",
        "#### it starts with 60 th days, to find the 60th day we need the rows from 0-59\n",
        "#### for the 61st day we need the rows from 1-60\n",
        "### so we need to create similar batchces and store it in x_train\n",
        "### for Y_train 60 th day we should store the 60th day \"Open\" column value"
      ]
    },
    {
      "cell_type": "code",
      "metadata": {
        "id": "scCB6qnX1A0B"
      },
      "source": [
        "X_train=[]\n",
        "Y_train=[]"
      ],
      "execution_count": null,
      "outputs": []
    },
    {
      "cell_type": "code",
      "metadata": {
        "colab": {
          "base_uri": "https://localhost:8080/"
        },
        "id": "uRcwKTbU4rpG",
        "outputId": "21f5473d-90ed-4835-84ad-1ef911882e05"
      },
      "source": [
        "type(X_train)"
      ],
      "execution_count": null,
      "outputs": [
        {
          "output_type": "execute_result",
          "data": {
            "text/plain": [
              "list"
            ]
          },
          "metadata": {
            "tags": []
          },
          "execution_count": 143
        }
      ]
    },
    {
      "cell_type": "code",
      "metadata": {
        "id": "Gq4xsKe2zhUE"
      },
      "source": [
        "for i in range(60,data_train.shape[0]):\n",
        "  X_train.append(data_train[i-60:i])# for 60th row 0-59\n",
        "  Y_train.append(data_train[i,0])\n",
        "  "
      ],
      "execution_count": null,
      "outputs": []
    },
    {
      "cell_type": "code",
      "metadata": {
        "colab": {
          "base_uri": "https://localhost:8080/"
        },
        "id": "c7qp_G361ylH",
        "outputId": "521bbaeb-b5c3-48cb-ca71-49db8c3d6652"
      },
      "source": [
        "X_train[0].shape,X_train[1].shape"
      ],
      "execution_count": null,
      "outputs": [
        {
          "output_type": "execute_result",
          "data": {
            "text/plain": [
              "((60, 5), (60, 5))"
            ]
          },
          "metadata": {
            "tags": []
          },
          "execution_count": 145
        }
      ]
    },
    {
      "cell_type": "code",
      "metadata": {
        "colab": {
          "base_uri": "https://localhost:8080/"
        },
        "id": "axK-6Ly-10kD",
        "outputId": "d42d277b-6e76-4866-ca97-e981913591fd"
      },
      "source": [
        "Y_train[0]"
      ],
      "execution_count": null,
      "outputs": [
        {
          "output_type": "execute_result",
          "data": {
            "text/plain": [
              "0.03508488283148054"
            ]
          },
          "metadata": {
            "tags": []
          },
          "execution_count": 146
        }
      ]
    },
    {
      "cell_type": "code",
      "metadata": {
        "id": "cFJCOOzQ5HBP"
      },
      "source": [
        "#Convert X_train and Y_train to numpy array\n",
        "X_train=np.array(X_train)\n",
        "Y_train=np.array(Y_train)"
      ],
      "execution_count": null,
      "outputs": []
    },
    {
      "cell_type": "code",
      "metadata": {
        "colab": {
          "base_uri": "https://localhost:8080/"
        },
        "id": "l8Job9xn51K7",
        "outputId": "4f22ce6d-693c-4bd4-a19a-fc51eae9dbd7"
      },
      "source": [
        "X_train.shape,Y_train.shape"
      ],
      "execution_count": null,
      "outputs": [
        {
          "output_type": "execute_result",
          "data": {
            "text/plain": [
              "((3557, 60, 5), (3557,))"
            ]
          },
          "metadata": {
            "tags": []
          },
          "execution_count": 148
        }
      ]
    },
    {
      "cell_type": "code",
      "metadata": {
        "id": "QJXJWrAl54kF"
      },
      "source": [
        "#The data is splitted into 3557 batches each with 60 rows and 5 columns"
      ],
      "execution_count": null,
      "outputs": []
    },
    {
      "cell_type": "code",
      "metadata": {
        "id": "H_Wqm6BS6FsQ",
        "colab": {
          "base_uri": "https://localhost:8080/"
        },
        "outputId": "dfd1f13a-0c67-4361-9605-67630f28bf37"
      },
      "source": [
        "X_train.shape[0]"
      ],
      "execution_count": null,
      "outputs": [
        {
          "output_type": "execute_result",
          "data": {
            "text/plain": [
              "3557"
            ]
          },
          "metadata": {
            "tags": []
          },
          "execution_count": 150
        }
      ]
    },
    {
      "cell_type": "code",
      "metadata": {
        "colab": {
          "base_uri": "https://localhost:8080/"
        },
        "id": "zGgNt52aKORV",
        "outputId": "3482b363-b041-4c3a-ffb3-e6f6b02234f5"
      },
      "source": [
        "X_train[0].shape"
      ],
      "execution_count": null,
      "outputs": [
        {
          "output_type": "execute_result",
          "data": {
            "text/plain": [
              "(60, 5)"
            ]
          },
          "metadata": {
            "tags": []
          },
          "execution_count": 151
        }
      ]
    },
    {
      "cell_type": "markdown",
      "metadata": {
        "id": "jva7uKBjLAP4"
      },
      "source": [
        "## Build the Model"
      ]
    },
    {
      "cell_type": "code",
      "metadata": {
        "id": "cZh32WouKRZB"
      },
      "source": [
        "from tensorflow.keras import Sequential\n",
        "from tensorflow.keras.layers import Dense,LSTM,Dropout"
      ],
      "execution_count": null,
      "outputs": []
    },
    {
      "cell_type": "code",
      "metadata": {
        "id": "Z0d3LRGvLMYl"
      },
      "source": [
        "regression_model=Sequential()\n",
        "regression_model.add(LSTM(units=50,activation='relu',return_sequences=True,input_shape=X_train[0].shape))\n",
        "regression_model.add(Dropout(0.2))\n",
        "\n",
        "regression_model.add(LSTM(units=60,activation='relu',return_sequences=True))\n",
        "regression_model.add(Dropout(0.2))\n",
        "\n",
        "regression_model.add(LSTM(units=80,activation='relu',return_sequences=True))\n",
        "regression_model.add(Dropout(0.2))\n",
        "\n",
        "regression_model.add(LSTM(units=120,activation='relu'))\n",
        "regression_model.add(Dropout(0.2))\n",
        "\n",
        "regression_model.add(Dense(1))"
      ],
      "execution_count": null,
      "outputs": []
    },
    {
      "cell_type": "code",
      "metadata": {
        "id": "4tKLk7CVMQyk"
      },
      "source": [
        "regression_model.compile(optimizer='adam',loss=\"mean_squared_error\")"
      ],
      "execution_count": null,
      "outputs": []
    },
    {
      "cell_type": "markdown",
      "metadata": {
        "id": "jHHMkLYj1G2A"
      },
      "source": [
        "## Model Training"
      ]
    },
    {
      "cell_type": "code",
      "metadata": {
        "colab": {
          "base_uri": "https://localhost:8080/"
        },
        "id": "NSp9KCo3Mr-M",
        "outputId": "71b9a913-f379-4f91-931f-5ba7369471cc"
      },
      "source": [
        "regression_model.fit(X_train,Y_train,epochs=10,batch_size=32)"
      ],
      "execution_count": null,
      "outputs": [
        {
          "output_type": "stream",
          "text": [
            "Epoch 1/10\n",
            "112/112 [==============================] - 20s 141ms/step - loss: 0.0125\n",
            "Epoch 2/10\n",
            "112/112 [==============================] - 16s 140ms/step - loss: 0.0022\n",
            "Epoch 3/10\n",
            "112/112 [==============================] - 16s 141ms/step - loss: 0.0023\n",
            "Epoch 4/10\n",
            "112/112 [==============================] - 16s 141ms/step - loss: 0.0020\n",
            "Epoch 5/10\n",
            "112/112 [==============================] - 16s 140ms/step - loss: 0.0018\n",
            "Epoch 6/10\n",
            "112/112 [==============================] - 16s 140ms/step - loss: 0.0016\n",
            "Epoch 7/10\n",
            "112/112 [==============================] - 16s 140ms/step - loss: 0.0017\n",
            "Epoch 8/10\n",
            "112/112 [==============================] - 16s 140ms/step - loss: 0.0014\n",
            "Epoch 9/10\n",
            "112/112 [==============================] - 16s 139ms/step - loss: 0.0013\n",
            "Epoch 10/10\n",
            "112/112 [==============================] - 16s 140ms/step - loss: 0.0014\n"
          ],
          "name": "stdout"
        },
        {
          "output_type": "execute_result",
          "data": {
            "text/plain": [
              "<tensorflow.python.keras.callbacks.History at 0x7f79eb1c4a50>"
            ]
          },
          "metadata": {
            "tags": []
          },
          "execution_count": 155
        }
      ]
    },
    {
      "cell_type": "markdown",
      "metadata": {
        "id": "EhP-a2GkgweM"
      },
      "source": [
        "## Preparing Testdata for Prediction"
      ]
    },
    {
      "cell_type": "code",
      "metadata": {
        "id": "90KrS8WCM3FK"
      },
      "source": [
        "# To predict the first data in test data, we need the previous 60 days data, so we need to select those last 60 days of training data and append to test data\n",
        "\n",
        "df_last=data_train_old.tail(60)"
      ],
      "execution_count": null,
      "outputs": []
    },
    {
      "cell_type": "code",
      "metadata": {
        "colab": {
          "base_uri": "https://localhost:8080/",
          "height": 142
        },
        "id": "yTNPx0HmhIW-",
        "outputId": "8256c8b4-6dba-4eee-fe9c-1048f3df5110"
      },
      "source": [
        "df_last.head(3)"
      ],
      "execution_count": null,
      "outputs": [
        {
          "output_type": "execute_result",
          "data": {
            "text/html": [
              "<div>\n",
              "<style scoped>\n",
              "    .dataframe tbody tr th:only-of-type {\n",
              "        vertical-align: middle;\n",
              "    }\n",
              "\n",
              "    .dataframe tbody tr th {\n",
              "        vertical-align: top;\n",
              "    }\n",
              "\n",
              "    .dataframe thead th {\n",
              "        text-align: right;\n",
              "    }\n",
              "</style>\n",
              "<table border=\"1\" class=\"dataframe\">\n",
              "  <thead>\n",
              "    <tr style=\"text-align: right;\">\n",
              "      <th></th>\n",
              "      <th>Date</th>\n",
              "      <th>Open</th>\n",
              "      <th>High</th>\n",
              "      <th>Low</th>\n",
              "      <th>Close</th>\n",
              "      <th>Adj Close</th>\n",
              "      <th>Volume</th>\n",
              "    </tr>\n",
              "  </thead>\n",
              "  <tbody>\n",
              "    <tr>\n",
              "      <th>3557</th>\n",
              "      <td>2018-10-04</td>\n",
              "      <td>1195.329956</td>\n",
              "      <td>1197.51001</td>\n",
              "      <td>1155.576050</td>\n",
              "      <td>1168.189941</td>\n",
              "      <td>1168.189941</td>\n",
              "      <td>2209500</td>\n",
              "    </tr>\n",
              "    <tr>\n",
              "      <th>3558</th>\n",
              "      <td>2018-10-05</td>\n",
              "      <td>1167.500000</td>\n",
              "      <td>1173.50000</td>\n",
              "      <td>1145.119995</td>\n",
              "      <td>1157.349976</td>\n",
              "      <td>1157.349976</td>\n",
              "      <td>1184300</td>\n",
              "    </tr>\n",
              "    <tr>\n",
              "      <th>3559</th>\n",
              "      <td>2018-10-08</td>\n",
              "      <td>1150.109985</td>\n",
              "      <td>1168.00000</td>\n",
              "      <td>1127.364014</td>\n",
              "      <td>1148.969971</td>\n",
              "      <td>1148.969971</td>\n",
              "      <td>1932400</td>\n",
              "    </tr>\n",
              "  </tbody>\n",
              "</table>\n",
              "</div>"
            ],
            "text/plain": [
              "            Date         Open        High  ...        Close    Adj Close   Volume\n",
              "3557  2018-10-04  1195.329956  1197.51001  ...  1168.189941  1168.189941  2209500\n",
              "3558  2018-10-05  1167.500000  1173.50000  ...  1157.349976  1157.349976  1184300\n",
              "3559  2018-10-08  1150.109985  1168.00000  ...  1148.969971  1148.969971  1932400\n",
              "\n",
              "[3 rows x 7 columns]"
            ]
          },
          "metadata": {
            "tags": []
          },
          "execution_count": 161
        }
      ]
    },
    {
      "cell_type": "code",
      "metadata": {
        "id": "bEc6weeykCSH"
      },
      "source": [
        "df_last=df_last.drop([\"Date\",\"Adj Close\"],axis=1)\n",
        "df_test=data_test.drop([\"Date\",\"Adj Close\"],axis=1)"
      ],
      "execution_count": null,
      "outputs": []
    },
    {
      "cell_type": "code",
      "metadata": {
        "colab": {
          "base_uri": "https://localhost:8080/",
          "height": 111
        },
        "id": "O60MOnql8mbA",
        "outputId": "66467905-beb4-43ef-d394-6dd52d912907"
      },
      "source": [
        "df_test.head(2)"
      ],
      "execution_count": null,
      "outputs": [
        {
          "output_type": "execute_result",
          "data": {
            "text/html": [
              "<div>\n",
              "<style scoped>\n",
              "    .dataframe tbody tr th:only-of-type {\n",
              "        vertical-align: middle;\n",
              "    }\n",
              "\n",
              "    .dataframe tbody tr th {\n",
              "        vertical-align: top;\n",
              "    }\n",
              "\n",
              "    .dataframe thead th {\n",
              "        text-align: right;\n",
              "    }\n",
              "</style>\n",
              "<table border=\"1\" class=\"dataframe\">\n",
              "  <thead>\n",
              "    <tr style=\"text-align: right;\">\n",
              "      <th></th>\n",
              "      <th>Open</th>\n",
              "      <th>High</th>\n",
              "      <th>Low</th>\n",
              "      <th>Close</th>\n",
              "      <th>Volume</th>\n",
              "    </tr>\n",
              "  </thead>\n",
              "  <tbody>\n",
              "    <tr>\n",
              "      <th>0</th>\n",
              "      <td>1195.329956</td>\n",
              "      <td>1197.51001</td>\n",
              "      <td>1155.576050</td>\n",
              "      <td>1168.189941</td>\n",
              "      <td>2209500</td>\n",
              "    </tr>\n",
              "    <tr>\n",
              "      <th>1</th>\n",
              "      <td>1167.500000</td>\n",
              "      <td>1173.50000</td>\n",
              "      <td>1145.119995</td>\n",
              "      <td>1157.349976</td>\n",
              "      <td>1184300</td>\n",
              "    </tr>\n",
              "  </tbody>\n",
              "</table>\n",
              "</div>"
            ],
            "text/plain": [
              "          Open        High          Low        Close   Volume\n",
              "0  1195.329956  1197.51001  1155.576050  1168.189941  2209500\n",
              "1  1167.500000  1173.50000  1145.119995  1157.349976  1184300"
            ]
          },
          "metadata": {
            "tags": []
          },
          "execution_count": 163
        }
      ]
    },
    {
      "cell_type": "code",
      "metadata": {
        "id": "ZWDAR4nMkOVQ"
      },
      "source": [
        "df_test=df_last.append(df_test,ignore_index=True)"
      ],
      "execution_count": null,
      "outputs": []
    },
    {
      "cell_type": "markdown",
      "metadata": {
        "id": "IgegF6eSttez"
      },
      "source": [
        "## Scaling"
      ]
    },
    {
      "cell_type": "code",
      "metadata": {
        "colab": {
          "base_uri": "https://localhost:8080/"
        },
        "id": "04UaBsBrkVJg",
        "outputId": "253063a7-87b1-4e0d-d5f5-31437dbfb104"
      },
      "source": [
        "test_new=scaler.transform(df_test)\n",
        "test_new"
      ],
      "execution_count": null,
      "outputs": [
        {
          "output_type": "execute_result",
          "data": {
            "text/plain": [
              "array([[0.93805611, 0.93755773, 0.92220906, 0.91781776, 0.02667489],\n",
              "       [0.91527437, 0.91792904, 0.91350452, 0.90892169, 0.0142533 ],\n",
              "       [0.90103881, 0.91343268, 0.89872289, 0.90204445, 0.02331748],\n",
              "       ...,\n",
              "       [2.1923901 , 2.201053  , 2.22687017, 2.20021836, 0.01158651],\n",
              "       [2.17815285, 2.17848694, 2.20482917, 2.17856068, 0.01440233],\n",
              "       [2.17771896, 2.18256058, 2.20241991, 2.19117453, 0.01209297]])"
            ]
          },
          "metadata": {
            "tags": []
          },
          "execution_count": 165
        }
      ]
    },
    {
      "cell_type": "code",
      "metadata": {
        "colab": {
          "base_uri": "https://localhost:8080/"
        },
        "id": "5H1blxlAtEa4",
        "outputId": "1838bb7a-0188-45ca-d53d-6184aacd608a"
      },
      "source": [
        "type(test_new)"
      ],
      "execution_count": null,
      "outputs": [
        {
          "output_type": "execute_result",
          "data": {
            "text/plain": [
              "numpy.ndarray"
            ]
          },
          "metadata": {
            "tags": []
          },
          "execution_count": 166
        }
      ]
    },
    {
      "cell_type": "code",
      "metadata": {
        "colab": {
          "base_uri": "https://localhost:8080/"
        },
        "id": "YgZW7FJRkbts",
        "outputId": "e982b362-6ef7-4dfb-fc77-e1a2d3cc7bfe"
      },
      "source": [
        "#convert the test_data into batches each having 60 days\n",
        "X_test=[]\n",
        "Y_test=[]\n",
        "for i in range(60,test_new.shape[0]):\n",
        "  X_test.append(test_new[i-60:i])\n",
        "  Y_test.append(test_new[i,0])\n",
        "\n",
        "X_test=np.array(X_test)\n",
        "Y_test=np.array(Y_test)\n",
        "\n",
        "X_test.shape,Y_test.shape\n"
      ],
      "execution_count": null,
      "outputs": [
        {
          "output_type": "execute_result",
          "data": {
            "text/plain": [
              "((771, 60, 5), (771,))"
            ]
          },
          "metadata": {
            "tags": []
          },
          "execution_count": 167
        }
      ]
    },
    {
      "cell_type": "markdown",
      "metadata": {
        "id": "dUrvPJndtyek"
      },
      "source": [
        "## Prediction"
      ]
    },
    {
      "cell_type": "code",
      "metadata": {
        "id": "_w4iNIiLlPFF"
      },
      "source": [
        "y_pred=regression_model.predict(X_test)"
      ],
      "execution_count": null,
      "outputs": []
    },
    {
      "cell_type": "markdown",
      "metadata": {
        "id": "JbGVzNCqt4GE"
      },
      "source": [
        "## Reverse Scaling"
      ]
    },
    {
      "cell_type": "code",
      "metadata": {
        "colab": {
          "base_uri": "https://localhost:8080/"
        },
        "id": "IRYYlFDetk3W",
        "outputId": "be527234-df7b-4649-c158-be33aff6a649"
      },
      "source": [
        "#0 bcoz 1st column has to be predicted\n",
        "scale=scaler.scale_[0]\n",
        "scale"
      ],
      "execution_count": null,
      "outputs": [
        {
          "output_type": "execute_result",
          "data": {
            "text/plain": [
              "0.0008186051270046249"
            ]
          },
          "metadata": {
            "tags": []
          },
          "execution_count": 169
        }
      ]
    },
    {
      "cell_type": "code",
      "metadata": {
        "id": "f8EvYMC_v2Bp"
      },
      "source": [
        "scale=1/scale"
      ],
      "execution_count": null,
      "outputs": []
    },
    {
      "cell_type": "code",
      "metadata": {
        "colab": {
          "base_uri": "https://localhost:8080/"
        },
        "id": "9WJ8V20owv13",
        "outputId": "9afd660a-804f-4ff8-9ce5-2fe698698727"
      },
      "source": [
        "scale"
      ],
      "execution_count": null,
      "outputs": [
        {
          "output_type": "execute_result",
          "data": {
            "text/plain": [
              "1221.590199"
            ]
          },
          "metadata": {
            "tags": []
          },
          "execution_count": 171
        }
      ]
    },
    {
      "cell_type": "code",
      "metadata": {
        "id": "6v3zV_e61rGD"
      },
      "source": [
        "y_pred=y_pred*scale\n",
        "Y_test=Y_test*scale"
      ],
      "execution_count": null,
      "outputs": []
    },
    {
      "cell_type": "markdown",
      "metadata": {
        "id": "X2d1K5-hz04H"
      },
      "source": [
        "## Visualization"
      ]
    },
    {
      "cell_type": "code",
      "metadata": {
        "colab": {
          "base_uri": "https://localhost:8080/",
          "height": 350
        },
        "id": "uvnw5aLKzSXq",
        "outputId": "7af67e98-d4c3-4d30-cb25-61a9f68009d5"
      },
      "source": [
        "plt.figure(figsize=(14,5))\n",
        "plt.plot(Y_test,color=\"red\",label=\"Google Real market price\")\n",
        "plt.plot(y_pred,color=\"green\",label=\"predicted market price\")\n",
        "plt.title(\"Google stock price prediction\")\n",
        "plt.xlabel(\"time\")\n",
        "plt.ylabel(\"Google stock price\")\n",
        "plt.legend()\n",
        "plt.show()"
      ],
      "execution_count": null,
      "outputs": [
        {
          "output_type": "display_data",
          "data": {
            "image/png": "[encoded data removed]",
            "text/plain": [
              "<Figure size 1008x360 with 1 Axes>"
            ]
          },
          "metadata": {
            "tags": [],
            "needs_background": "light"
          }
        }
      ]
    }
  ]
}